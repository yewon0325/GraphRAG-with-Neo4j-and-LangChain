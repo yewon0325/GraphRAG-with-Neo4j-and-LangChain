{
  "nbformat": 4,
  "nbformat_minor": 0,
  "metadata": {
    "colab": {
      "provenance": [],
      "authorship_tag": "ABX9TyOUR/yTNYdwEnebIDuNmxhz",
      "include_colab_link": true
    },
    "kernelspec": {
      "name": "python3",
      "display_name": "Python 3"
    },
    "language_info": {
      "name": "python"
    }
  },
  "cells": [
    {
      "cell_type": "markdown",
      "metadata": {
        "id": "view-in-github",
        "colab_type": "text"
      },
      "source": [
        "<a href=\"https://colab.research.google.com/github/yewon0325/GraphRAG-with-Neo4j-and-LangChain/blob/main/langchain_RAG_llama3_1.ipynb\" target=\"_parent\"><img src=\"https://colab.research.google.com/assets/colab-badge.svg\" alt=\"Open In Colab\"/></a>"
      ]
    },
    {
      "cell_type": "code",
      "execution_count": 26,
      "metadata": {
        "colab": {
          "base_uri": "https://localhost:8080/"
        },
        "id": "ZBA0gJv2Ha0T",
        "outputId": "000bee71-77c5-41f1-f7ca-b2916cd26c49"
      },
      "outputs": [
        {
          "output_type": "stream",
          "name": "stdout",
          "text": [
            "['부산진구, 2024년 재난대응 안전한국훈련 실시', '부산진구(구청장 김영욱)는 10월 25일 다중밀집시설 지진․화재 복합재난을 가정한 2024 재난대응 안전한국훈련을 토론․현장훈련으로 당감동 소재 한국소재융합연구원에서 실시했다고 밝혔다.', '이날 토론훈련은 단편적 발표방식에서 벗어나 문제 해결형 훈련으로 부산진구의 재난대응 능력을 점검하고 유관기관 간의 협력체계를 강화하는데 중점을 두었다.', '현장훈련은 지진으로 인한 화재 발생 직후 긴급구조통제단과 통합지원본부 운영 등을 통해 초기 대응과 화재 진압, 인명구조, 복구 및 수습 등으로 진행되었다.', '이번 훈련에는 11개 유관기관과 3개 민간단체가 참여하였고 지역에서 가장 빈번한 재난유형인 화재로부터 주민 피해를 최소화에 하는데 역점을 두고 훈련을 실시했다.', '김영욱 구청장은 “앞으로 재난대응 안전한국훈련을 통해 재난으로부터 구민의 인명과 재산 피해를 최소화하는데 만전을 기하겠다”고 밝혔다.']\n"
          ]
        }
      ],
      "source": [
        "from bs4 import BeautifulSoup  # Python에서 HTML과 XML 문서를 파싱\n",
        "import urllib.request\n",
        "import pandas as pd\n",
        "import datetime\n",
        "\n",
        "def busan_Jingu_news(result):\n",
        "    for i in range(0, 1):\n",
        "        dataSid = 3907022 - i\n",
        "        news_url = 'https://www.busanjin.go.kr/board/view.busanjin?boardId=BBS_0000031&menuCd=DOM_000000110003001000&paging=ok&startPage=1&dataSid=%d' % dataSid\n",
        "        #print(news_url)\n",
        "\n",
        "        html = urllib.request.urlopen(news_url)\n",
        "        htmlnew = BeautifulSoup(html, 'html.parser')\n",
        "        tag_body = htmlnew.find('body')\n",
        "        class_substan = tag_body.select('.substan')\n",
        "\n",
        "        paragraphs = class_substan[0].find_all('p')\n",
        "        strong_texts = [p.text.strip() for p in paragraphs if p.text.strip()]\n",
        "        return strong_texts\n",
        "\n",
        "result = []\n",
        "\n",
        "print(busan_Jingu_news(result))\n"
      ]
    }
  ]
}